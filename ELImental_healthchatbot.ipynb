{
  "cells": [
    {
      "cell_type": "markdown",
      "metadata": {
        "id": "r55beYzeSQFt"
      },
      "source": [
        "##**This program stimulates a mental health therapist chatbot.**"
      ]
    },
    {
      "cell_type": "markdown",
      "metadata": {
        "id": "RjqYb98JTse1"
      },
      "source": [
        "#**Importing the required libraries.**"
      ]
    },
    {
      "cell_type": "code",
      "execution_count": null,
      "metadata": {
        "id": "paZkT_7j-oDV"
      },
      "outputs": [],
      "source": [
        "import re\n",
        "import random"
      ]
    },
    {
      "cell_type": "markdown",
      "metadata": {
        "id": "Bt5L-m_hU9sv"
      },
      "source": [
        "#**Create a list of pre-defined responses using dictionary.**"
      ]
    },
    {
      "cell_type": "code",
      "execution_count": null,
      "metadata": {
        "id": "7cp8Gh98-593"
      },
      "outputs": [],
      "source": [
        "response={\n",
        "    \"hello\":[\"Hello! How may I help you today?\", \"Hey there. How can I help you today?\"],\n",
        "    \"hi\":[\"Hi there, What can I do for you?\"],\n",
        "    \"hey\":[\"Hey there, What would you like to discuss?\"],\n",
        "    \"what are you\":[\"Your mental health friend... tell me\"],\n",
        "    \"yes\":[\"I see.\",\"OK.\",\"Come, come, elucidate your thoughts.\"],\n",
        "    \"no\":[\"Why no?\"],\n",
        "    \"i feel (.*)\":[\"Why do you feel {}?\"],\n",
        "    \"i am (.*)\":[\"Why do you say you're {}?\"],\n",
        "    \"should i (.*)\":[\"You think that's right?\"],\n",
        "    \"how (.*) you (.*)\":[\"I am trained that way.\"],\n",
        "    \"what (.*)\":[\"Does that question interests you?\",\"Try thinking yourself.\"],\n",
        "    \"why (.*)\":[\"Does that question interests you?\",\"Try thinking yourself.\"],\n",
        "    \"(.*) tell (.*)\":[\"What is it that you really want to know?\",\"Are you sure this thing is true?\"],\n",
        "    \"(.*) tell me about yourself\":[\"Love that question! My name's Eli, your mental health friend! I've been trained to support you through any of the issues and things that you're going through in life right now. I'm all ears and want to support you through your ups and downs. Technically, I'm a computer that's been trained by a human, but I like to think of myself as human!\", \"Hey! I love that question! My name is Eli, and I want to be your mental health friend and support you! My fellow human friends have trained me to be a compassionate listener and support buddy when things are going well, and particularily when things aren't going so well.\"],\n",
        "    \"what do you do\":[\"Hey! I love that question! My name is Eli, and I want to be your mental health friend and support you! My fellow human friends have trained me to be a compassionate listener and support buddy when things are going well, and particularily when things aren't going so well.\"],\n",
        "    \"i wish (.*)\":[\"May that happen for sure :)\"],\n",
        "    \"are you a real person\":[\"My name's Eli, your mental health friend! I've been trained to support you through any of the issues and things that you're going through in life right now. I'm all ears and want to support you through your ups and downs. Technically, I'm a computer that's been trained by a human, but I like to think of myself as human!\"],\n",
        "    \"(.*) not (.*)\":[\"Why so?\"],\n",
        "    \"i think i have anxiety\":[\"I see that you want to learn more about anxiety, and how to support yourself or your loved ones. At the higest level, anxiety is your body's natural response to stress. It's a feeling of fear or apprehension about what's to come. The first day of school, going to a job interview, or giving a speech may cause most people to feel fearful and nervous. We all get anxious sometimes, but anxiety becomes a problem when it starts affecting your daily life drastically. The best thing that you can do to help reduce anxiety is to take a few deep breaths and talk to someone about what you're feeling. Some natural remedies that you can try include: getting enough sleep meditating, staying active and exercising, eating a healthy diet, staying active and working out, avoiding alcohol, avoiding caffeine, and quitting smoking cigarettes. Support your friends and loved ones by checking up on them and just listening. Whatever you're feeling is valid.\"],\n",
        "    \"what is anxiety\":[\"I see that you want to learn more about anxiety, and how to support yourself or your loved ones. At the higest level, anxiety is your body's natural response to stress. It's a feeling of fear or apprehension about what's to come. The first day of school, going to a job interview, or giving a speech may cause most people to feel fearful and nervous. We all get anxious sometimes, but anxiety becomes a problem when it starts affecting your daily life drastically. The best thing that you can do to help reduce anxiety is to take a few deep breaths and talk to someone about what you're feeling. Some natural remedies that you can try include: getting enough sleep meditating, staying active and exercising, eating a healthy diet, staying active and working out, avoiding alcohol, avoiding caffeine, and quitting smoking cigarettes. Support your friends and loved ones by checking up on them and just listening. Whatever you're feeling is valid.\"],\n",
        "    \"(.*) anxiety\":[\"I see that you want to learn more about anxiety, and how to support yourself or your loved ones. At the higest level, anxiety is your body's natural response to stress. It's a feeling of fear or apprehension about what's to come. The first day of school, going to a job interview, or giving a speech may cause most people to feel fearful and nervous. We all get anxious sometimes, but anxiety becomes a problem when it starts affecting your daily life drastically. The best thing that you can do to help reduce anxiety is to take a few deep breaths and talk to someone about what you're feeling. Some natural remedies that you can try include: getting enough sleep meditating, staying active and exercising, eating a healthy diet, staying active and working out, avoiding alcohol, avoiding caffeine, and quitting smoking cigarettes. Support your friends and loved ones by checking up on them and just listening. Whatever you're feeling is valid.\"],\n",
        "    \"how do i fix my anxiety\":[\"I see that you want to learn more about anxiety, and how to support yourself or your loved ones. At the higest level, anxiety is your body's natural response to stress. It's a feeling of fear or apprehension about what's to come. The first day of school, going to a job interview, or giving a speech may cause most people to feel fearful and nervous. We all get anxious sometimes, but anxiety becomes a problem when it starts affecting your daily life drastically. The best thing that you can do to help reduce anxiety is to take a few deep breaths and talk to someone about what you're feeling. Some natural remedies that you can try include: getting enough sleep meditating, staying active and exercising, eating a healthy diet, staying active and working out, avoiding alcohol, avoiding caffeine, and quitting smoking cigarettes. Support your friends and loved ones by checking up on them and just listening. Whatever you're feeling is valid.\"],\n",
        "    \"(.*) happy\":[\"Sounds good.\"],\n",
        "    \"(.*) depression\":[\"I see that you want to learn more about depression, and how to support yourself or your loved ones. At the higest level, depression is a mood disorder that causes a persistent feeling of sadness and loss of interest. Also called major depressive disorder or clinical depression, it affects how you feel, think and behave and can lead to a variety of emotional and physical problems. You may have trouble doing normal day-to-day activities, and sometimes you may feel as if life isn't worth living. All of us experience sadness and periods of time where things aren't that great. However, the difference in sadness and depression lies in the duration and magnitude of the problem. The best recommended course of treatment is to talk a therapist or psychiatrist who can help you find the best path for you. Everyone is different and what might work for one person might not work for another one. Some natural remedies that you can try include: getting enough sleep, meditating, staying active and exercising, eating a healthy diet, staying active and working out, avoiding alcohol, avoiding caffeine, and quitting smoking cigarettes. Support your friends and loved ones by checking up on them and just listening. Whatever you're feeling is valid.\"],\n",
        "    \"i think i have depression\":[\"I see that you want to learn more about depression, and how to support yourself or your loved ones. At the higest level, depression is a mood disorder that causes a persistent feeling of sadness and loss of interest. Also called major depressive disorder or clinical depression, it affects how you feel, think and behave and can lead to a variety of emotional and physical problems. You may have trouble doing normal day-to-day activities, and sometimes you may feel as if life isn't worth living. All of us experience sadness and periods of time where things aren't that great. However, the difference in sadness and depression lies in the duration and magnitude of the problem. The best recommended course of treatment is to talk a therapist or psychiatrist who can help you find the best path for you. Everyone is different and what might work for one person might not work for another one. Some natural remedies that you can try include: getting enough sleep, meditating, staying active and exercising, eating a healthy diet, staying active and working out, avoiding alcohol, avoiding caffeine, and quitting smoking cigarettes. Support your friends and loved ones by checking up on them and just listening. Whatever you're feeling is valid.\"],\n",
        "    \"(.*) sad\":[\"Tell me briefly so that you can overcome it dear user.\"],\n",
        "    \"how do i fix my depression\":[\"I see that you want to learn more about depression, and how to support yourself or your loved ones. At the higest level, depression is a mood disorder that causes a persistent feeling of sadness and loss of interest. Also called major depressive disorder or clinical depression, it affects how you feel, think and behave and can lead to a variety of emotional and physical problems. You may have trouble doing normal day-to-day activities, and sometimes you may feel as if life isn't worth living. All of us experience sadness and periods of time where things aren't that great. However, the difference in sadness and depression lies in the duration and magnitude of the problem. The best recommended course of treatment is to talk a therapist or psychiatrist who can help you find the best path for you. Everyone is different and what might work for one person might not work for another one. Some natural remedies that you can try include: getting enough sleep, meditating, staying active and exercising, eating a healthy diet, staying active and working out, avoiding alcohol, avoiding caffeine, and quitting smoking cigarettes. Support your friends and loved ones by checking up on them and just listening. Whatever you're feeling is valid.\"],\n",
        "    \"(.*) bad\":[\"Surely hard for you, but try to give me more details so that I can help you better.\"],\n",
        "    \"what is depression\":[\"I see that you want to learn more about depression, and how to support yourself or your loved ones. At the higest level, depression is a mood disorder that causes a persistent feeling of sadness and loss of interest. Also called major depressive disorder or clinical depression, it affects how you feel, think and behave and can lead to a variety of emotional and physical problems. You may have trouble doing normal day-to-day activities, and sometimes you may feel as if life isn't worth living. All of us experience sadness and periods of time where things aren't that great. However, the difference in sadness and depression lies in the duration and magnitude of the problem. The best recommended course of treatment is to talk a therapist or psychiatrist who can help you find the best path for you. Everyone is different and what might work for one person might not work for another one. Some natural remedies that you can try include: getting enough sleep, meditating, staying active and exercising, eating a healthy diet, staying active and working out, avoiding alcohol, avoiding caffeine, and quitting smoking cigarettes. Support your friends and loved ones by checking up on them and just listening. Whatever you're feeling is valid.\"],\n",
        "    \"(.*) depression (.*)\":[\"I see that you want to learn more about depression, and how to support yourself or your loved ones. At the higest level, depression is a mood disorder that causes a persistent feeling of sadness and loss of interest. Also called major depressive disorder or clinical depression, it affects how you feel, think and behave and can lead to a variety of emotional and physical problems. You may have trouble doing normal day-to-day activities, and sometimes you may feel as if life isn't worth living. All of us experience sadness and periods of time where things aren't that great. However, the difference in sadness and depression lies in the duration and magnitude of the problem. The best recommended course of treatment is to talk a therapist or psychiatrist who can help you find the best path for you. Everyone is different and what might work for one person might not work for another one. Some natural remedies that you can try include: getting enough sleep, meditating, staying active and exercising, eating a healthy diet, staying active and working out, avoiding alcohol, avoiding caffeine, and quitting smoking cigarettes. Support your friends and loved ones by checking up on them and just listening. Whatever you're feeling is valid.\"],\n",
        "    \"i think i have schizophrenia\":[\"I see that you want to learn more about schizophrenia, and how to support yourself or your loved ones. At the higest level, Schizophrenia is a serious mental disorder in which people interpret reality abnormally. Schizophrenia may result in some combination of hallucinations, delusions, and extremely disordered thinking and behavior that impairs daily functioning, and can be disabling. People with schizophrenia require lifelong treatment. Early treatment may help get symptoms under control before serious complications develop and may help improve the long-term outlook. If you believe you have symptoms of schizophrenia, and/or you have various risk factors that increase the likelihood of schizophrenia, please consult a family doctor and/or psychiatrist for a diagnosis and treatment plan specific for the individual.\"],\n",
        "    \"(.*) schizophrenia (.*)\":[\"I see that you want to learn more about schizophrenia, and how to support yourself or your loved ones. At the higest level, Schizophrenia is a serious mental disorder in which people interpret reality abnormally. Schizophrenia may result in some combination of hallucinations, delusions, and extremely disordered thinking and behavior that impairs daily functioning, and can be disabling. People with schizophrenia require lifelong treatment. Early treatment may help get symptoms under control before serious complications develop and may help improve the long-term outlook. If you believe you have symptoms of schizophrenia, and/or you have various risk factors that increase the likelihood of schizophrenia, please consult a family doctor and/or psychiatrist for a diagnosis and treatment plan specific for the individual.\"],\n",
        "    \"(.*) schizophrenia\":[\"I see that you want to learn more about schizophrenia, and how to support yourself or your loved ones. At the higest level, Schizophrenia is a serious mental disorder in which people interpret reality abnormally. Schizophrenia may result in some combination of hallucinations, delusions, and extremely disordered thinking and behavior that impairs daily functioning, and can be disabling. People with schizophrenia require lifelong treatment. Early treatment may help get symptoms under control before serious complications develop and may help improve the long-term outlook. If you believe you have symptoms of schizophrenia, and/or you have various risk factors that increase the likelihood of schizophrenia, please consult a family doctor and/or psychiatrist for a diagnosis and treatment plan specific for the individual.\"],\n",
        "    \"what is schizophrenia\":[\"I see that you want to learn more about schizophrenia, and how to support yourself or your loved ones. At the higest level, Schizophrenia is a serious mental disorder in which people interpret reality abnormally. Schizophrenia may result in some combination of hallucinations, delusions, and extremely disordered thinking and behavior that impairs daily functioning, and can be disabling. People with schizophrenia require lifelong treatment. Early treatment may help get symptoms under control before serious complications develop and may help improve the long-term outlook. If you believe you have symptoms of schizophrenia, and/or you have various risk factors that increase the likelihood of schizophrenia, please consult a family doctor and/or psychiatrist for a diagnosis and treatment plan specific for the individual.\"],\n",
        "    \"(.*) anxiety (.*)\":[\"I see that you want to learn more about anxiety, and how to support yourself or your loved ones. At the higest level, anxiety is your body's natural response to stress. It's a feeling of fear or apprehension about what's to come. The first day of school, going to a job interview, or giving a speech may cause most people to feel fearful and nervous. We all get anxious sometimes, but anxiety becomes a problem when it starts affecting your daily life drastically. The best thing that you can do to help reduce anxiety is to take a few deep breaths and talk to someone about what you're feeling. Some natural remedies that you can try include: getting enough sleep meditating, staying active and exercising, eating a healthy diet, staying active and working out, avoiding alcohol, avoiding caffeine, and quitting smoking cigarettes. Support your friends and loved ones by checking up on them and just listening. Whatever you're feeling is valid.\"],\n",
        "    \"tell me something funny\":[\"What did the buffalo say when his son left for college? Bison!\"],\n",
        "    \"tell me a joke\":[\"Of course! Why did the hipster burn his mouth? He drank the coffee before it was cool.\"],\n",
        "    \"do you know a joke\":[\"I invented a new word! Plagiarism!\"],\n",
        "    \"(.*) help (.*)\":[\"Sure, that is what I am here for. Tell me.\"],\n",
        "    \"i don't understand\":[\"Am I making myself too complicated?\"],\n",
        "    \"yes\":[\"You seem quite sure.\",\"Ok, but can you elaborate?\", \"Let's proceed\"],\n",
        "    \"no\":[\"Why not?\",\"Ok, but can you elaborate a bit?\"],\n",
        "    \"what (.*)\":[\"What according to you could be the solution?\",\"Tell me what do you think about it first.\"],\n",
        "    \"thank you\":[\"Your welcome dear\",\"My pleasure\",\"Happy to help\",\"Anytime\"],\n",
        "    \"i understand\":[\"Good\"],\n",
        "    \"ok\":[\"Yes\"],\n",
        "    \"\":[\"Ok... please proceed\",\"I understand\",\"Ok\"]\n",
        "}"
      ]
    },
    {
      "cell_type": "markdown",
      "metadata": {
        "id": "m4kqna6BVFIF"
      },
      "source": [
        "#**Define a function to match the user's input to a pre-defined response.**"
      ]
    },
    {
      "cell_type": "code",
      "execution_count": null,
      "metadata": {
        "id": "nfOOcU7JEDl7"
      },
      "outputs": [],
      "source": [
        "def match_response(input_text):\n",
        "  #Create a for loop to iterate over to the items of the \"response\" dictionary\n",
        "  for pattern, response_list in response.items():\n",
        "    matches=re.match(pattern, input_text.lower())\n",
        "    if matches:\n",
        "      chosen_response=random.choice(response_list)\n",
        "      return chosen_response.format(*matches.groups())\n",
        "\n",
        "  #There is no pattern match\n",
        "  return \"I'm sorry, I don't understand what are you saying.\""
      ]
    },
    {
      "cell_type": "markdown",
      "metadata": {
        "id": "Z4_G1mfWbX8E"
      },
      "source": [
        "#**Create the main loop to start the chatbot.**"
      ]
    },
    {
      "cell_type": "code",
      "execution_count": null,
      "metadata": {
        "colab": {
          "background_save": true,
          "base_uri": "https://localhost:8080/"
        },
        "id": "TAe0CKUeHRqT",
        "outputId": "210c78e8-6d3e-4a5e-a633-0e8d73336148"
      },
      "outputs": [
        {
          "name": "stdout",
          "output_type": "stream",
          "text": [
            "Welcome to the Eli - your mental-health therapist chatbot :)\n",
            "Eli: Hey there. How can I help you today?\n",
            "Eli: Tell me what do you think about it first.\n",
            "Eli: Why do you say you're sad?\n",
            "Eli: I understand\n"
          ]
        }
      ],
      "source": [
        "print(\"Welcome to the Eli - your mental-health therapist chatbot :)\")\n",
        "while True:\n",
        "  user_input=input(\"You: \")\n",
        "  if user_input.lower()==\"bye\":\n",
        "    print(\"Eli: Have a lovely day. Goodbye!\")\n",
        "    break\n",
        "  else:\n",
        "    print(\"Eli: \" +match_response(user_input))"
      ]
    }
  ],
  "metadata": {
    "colab": {
      "provenance": []
    },
    "kernelspec": {
      "display_name": "Python 3",
      "name": "python3"
    },
    "language_info": {
      "name": "python"
    }
  },
  "nbformat": 4,
  "nbformat_minor": 0
}